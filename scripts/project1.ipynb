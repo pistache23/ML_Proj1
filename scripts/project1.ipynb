{
 "cells": [
  {
   "cell_type": "code",
   "execution_count": 1,
   "metadata": {},
   "outputs": [],
   "source": [
    "# Useful starting lines\n",
    "%matplotlib inline\n",
    "import numpy as np\n",
    "import matplotlib.pyplot as plt\n",
    "%load_ext autoreload\n",
    "%autoreload 2"
   ]
  },
  {
   "cell_type": "markdown",
   "metadata": {},
   "source": [
    "## Load the training data into feature matrix, class labels, and event ids:"
   ]
  },
  {
   "cell_type": "code",
   "execution_count": 8,
   "metadata": {},
   "outputs": [],
   "source": [
    "from proj1_helpers import *\n",
    "DATA_TRAIN_PATH = '../data/train.csv' # TODO: download train data and supply path here \n",
    "y, tX, ids = load_csv_data(DATA_TRAIN_PATH)"
   ]
  },
  {
   "cell_type": "code",
   "execution_count": 16,
   "metadata": {},
   "outputs": [
    {
     "data": {
      "text/plain": [
       "(array([100000, 100001, 100002, ..., 349997, 349998, 349999]), (250000,))"
      ]
     },
     "execution_count": 16,
     "metadata": {},
     "output_type": "execute_result"
    }
   ],
   "source": [
    "ids, ids.shape"
   ]
  },
  {
   "cell_type": "code",
   "execution_count": 18,
   "metadata": {},
   "outputs": [
    {
     "data": {
      "text/plain": [
       "(250000, 30)"
      ]
     },
     "execution_count": 18,
     "metadata": {},
     "output_type": "execute_result"
    }
   ],
   "source": [
    "tX.shape"
   ]
  },
  {
   "cell_type": "markdown",
   "metadata": {},
   "source": [
    "## Do your thing crazy machine learning thing here :) ..."
   ]
  },
  {
   "cell_type": "code",
   "execution_count": 26,
   "metadata": {},
   "outputs": [],
   "source": [
    "correlation_matrix = np.corrcoef(tX, rowvar=0)"
   ]
  },
  {
   "cell_type": "code",
   "execution_count": 32,
   "metadata": {},
   "outputs": [
    {
     "data": {
      "text/plain": [
       "[Text(0, 0, 'X0'),\n",
       " Text(0, 0, 'X1'),\n",
       " Text(0, 0, 'X2'),\n",
       " Text(0, 0, 'X3'),\n",
       " Text(0, 0, 'X4'),\n",
       " Text(0, 0, 'X5'),\n",
       " Text(0, 0, 'X6'),\n",
       " Text(0, 0, 'X7'),\n",
       " Text(0, 0, 'X8'),\n",
       " Text(0, 0, 'X9'),\n",
       " Text(0, 0, 'X10'),\n",
       " Text(0, 0, 'X11'),\n",
       " Text(0, 0, 'X12'),\n",
       " Text(0, 0, 'X13'),\n",
       " Text(0, 0, 'X14'),\n",
       " Text(0, 0, 'X15'),\n",
       " Text(0, 0, 'X16'),\n",
       " Text(0, 0, 'X17'),\n",
       " Text(0, 0, 'X18'),\n",
       " Text(0, 0, 'X19'),\n",
       " Text(0, 0, 'X20'),\n",
       " Text(0, 0, 'X21'),\n",
       " Text(0, 0, 'X22'),\n",
       " Text(0, 0, 'X23'),\n",
       " Text(0, 0, 'X24'),\n",
       " Text(0, 0, 'X25'),\n",
       " Text(0, 0, 'X26'),\n",
       " Text(0, 0, 'X27'),\n",
       " Text(0, 0, 'X28'),\n",
       " Text(0, 0, 'X29')]"
      ]
     },
     "execution_count": 32,
     "metadata": {},
     "output_type": "execute_result"
    },
    {
     "data": {
      "image/png": "[encoded data removed]",
      "text/plain": [
       "<Figure size 864x864 with 2 Axes>"
      ]
     },
     "metadata": {
      "needs_background": "light"
     },
     "output_type": "display_data"
    }
   ],
   "source": [
    "fig = plt.figure(figsize=(12,12))\n",
    "ax = fig.add_subplot(111) \n",
    "hot_img = ax.matshow(np.abs(correlation_matrix), vmin=0, vmax=1) \n",
    "fig.colorbar(hot_img) \n",
    "ticks = np.arange(0, 30, 1) \n",
    "ax.set_xticks(ticks)\n",
    "ax.set_yticks(ticks) \n",
    "names = ['X' + str(i) for i in range(tX.shape[1])] \n",
    "ax.set_xticklabels(names) \n",
    "ax.set_yticklabels(names) "
   ]
  },
  {
   "cell_type": "markdown",
   "metadata": {},
   "source": [
    "#### [4/6,12,26,27,28], [6/4,12,26,27,28], [9/29], [12/4,626,27,28], [23/24,25], [24/23,25], [25/23,24], [26/4,6,12,27,28], [27/4,6,12,26,28], [28/4,6,12,26,27], [29/9]"
   ]
  },
  {
   "cell_type": "code",
   "execution_count": null,
   "metadata": {},
   "outputs": [],
   "source": []
  },
  {
   "cell_type": "code",
   "execution_count": null,
   "metadata": {},
   "outputs": [],
   "source": []
  },
  {
   "cell_type": "markdown",
   "metadata": {},
   "source": [
    "## Generate predictions and save ouput in csv format for submission:"
   ]
  },
  {
   "cell_type": "code",
   "execution_count": 33,
   "metadata": {},
   "outputs": [],
   "source": [
    "DATA_TEST_PATH = '../data/train.csv' # TODO: download train data and supply path here \n",
    "_, tX_test, ids_test = load_csv_data(DATA_TEST_PATH)"
   ]
  },
  {
   "cell_type": "code",
   "execution_count": 31,
   "metadata": {},
   "outputs": [],
   "source": [
    "OUTPUT_PATH = 'prediction_haluhalu' # TODO: fill in desired name of output file for submission\n",
    "y_pred = predict_labels(weights, tX_test)\n",
    "create_csv_submission(ids_test, y_pred, OUTPUT_PATH)"
   ]
  },
  {
   "cell_type": "code",
   "execution_count": null,
   "metadata": {
    "collapsed": true
   },
   "outputs": [],
   "source": []
  }
 ],
 "metadata": {
  "anaconda-cloud": {},
  "kernelspec": {
   "display_name": "Python [conda env:root] *",
   "language": "python",
   "name": "conda-root-py"
  },
  "language_info": {
   "codemirror_mode": {
    "name": "ipython",
    "version": 3
   },
   "file_extension": ".py",
   "mimetype": "text/x-python",
   "name": "python",
   "nbconvert_exporter": "python",
   "pygments_lexer": "ipython3",
   "version": "3.7.4"
  }
 },
 "nbformat": 4,
 "nbformat_minor": 1
}
